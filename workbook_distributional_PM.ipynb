{
  "cells": [
    {
      "cell_type": "markdown",
      "metadata": {
        "id": "view-in-github",
        "colab_type": "text"
      },
      "source": [
        "<a href=\"https://colab.research.google.com/github/polinamaximenko/compling/blob/main/workbook_distributional_PM.ipynb\" target=\"_parent\"><img src=\"https://colab.research.google.com/assets/colab-badge.svg\" alt=\"Open In Colab\"/></a>"
      ]
    },
    {
      "cell_type": "markdown",
      "source": [
        "```\n",
        "Курс \"Компьютерная лингвистика\" | НИУ ВШЭ Санкт-Петербург\n",
        "(c) В.И. Фирсанова\n",
        "```"
      ],
      "metadata": {
        "id": "DmQEH9ISfSy2"
      }
    },
    {
      "cell_type": "markdown",
      "metadata": {
        "id": "ZyHV4VPUwfwy"
      },
      "source": [
        "# Практика: Введение в дистрибутивную семантику и знакомство с Google Colab"
      ]
    },
    {
      "cell_type": "markdown",
      "metadata": {
        "id": "nO3bXBygoQM5"
      },
      "source": [
        "## Welcome to Google Colab"
      ]
    },
    {
      "cell_type": "markdown",
      "metadata": {
        "id": "vuiAYVtAu6bw"
      },
      "source": [
        "**Jupyter-ноутбук — интерактивная среда разработки**\n",
        "\n",
        "Свойства Jupyter\n",
        "\n",
        "* работа в ячейках\n",
        "  * мгновенное отображение результата работы фрагментов кода\n",
        "  * можно разбить выполнение кода на части\n",
        "  * ячейки можно запускать в произвольном порядке\n",
        "\n",
        "* код и текст\n",
        "  * Jupyter поддерживает 2 типа ячеек - текстовые и кодовые\n",
        "  * всю вашу работу можно документировать в текстовых ячейках\n",
        "\n",
        "* визуализация\n",
        "  * табличных данных\n",
        "  * графиков\n",
        "  * \\+ красивый вывод данных\n",
        "\n",
        "* область применения\n",
        "  * машинное обучение\n",
        "  * дата саенс\n",
        "  * большие данные\n",
        "  * научные вычисления\n",
        "  * документация"
      ]
    },
    {
      "cell_type": "markdown",
      "metadata": {
        "id": "bbmjRU0HxxO9"
      },
      "source": [
        "**Интерфейс Google Colab — разновидность Jupyter-ноутбука**\n",
        "\n",
        "Основные отличия\n",
        "\n",
        "* интеграция с внешними сервисами\n",
        "  * GitHub (можно напрямую скачивать и загружать ноутбуки)\n",
        "  * Google Drive (там можно хранить данные, модели; нужно подключить свой диск к ноутбуку)\n",
        "  * NEW! генеративный ИИ может помочь вам с написанием кода\n",
        "\n",
        "* аппаратный ускоритель\n",
        "  * GPU / TPU используется для машинного обучения и других ресурсоёмких вычислений\n",
        "  * бесплатный доступ / недорогая подписка\n",
        "  * см. меню `Runtime` - `Change runtime type`"
      ]
    },
    {
      "cell_type": "markdown",
      "metadata": {
        "id": "-TEfz_pT0P7G"
      },
      "source": [
        "**Основы работы с интерфейсом Google Colab**\n",
        "\n",
        "***Открыть файл***\n",
        "\n",
        "Горячие клавиши: `Ctrl + O` или `Cmd + O`\n",
        "\n",
        "Опции:\n",
        "\n",
        "* загружаем файл *.ipynb с локального диска\n",
        "* открываем файл *.ipynb с Google-диска\n",
        "* открываем файл *.ipynb с GitHub (URL, поиск пользователя)\n",
        "* открываем из GitHub с помощью кнопки `Open in Colab`\n",
        "\n",
        "![image.png](data:image/png;base64,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)\n",
        "\n",
        "***Сохранить файл***\n",
        "\n",
        "Горячие клавиши: сохранить на Google-диске `Ctrl + S` или `Cmd + S`\n",
        "\n",
        "Возможности:\n",
        "\n",
        "* сохранить копию в репозитории на GitHub (`File` - `Save a copy in GitHub`)\n",
        "* сохранить GitHub Gist\n",
        "* скачать *.ipynb (Jupyter-ноутбук)\n",
        "* скачать *.py (скрипт на Python без деления на ячейки и текстовой информации)\n",
        "\n",
        "***Внести изменения в файл***\n",
        "\n",
        "Можно создать кодовую или текстовую ячейку.\n",
        "\n",
        "![image.png](data:image/png;base64,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)\n",
        "\n",
        "В кодовой ячейке можно ввести код на языке Python или команды shell.\n",
        "\n",
        "Горячие клавиши:\n",
        "- новая ячейка `Ctrl + M + B` или `Cmd + M + B`\n",
        "- запустить ячейку `Shift + Enter`\n",
        "\n",
        "\n",
        "![image.png](data:image/png;base64,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)\n",
        "\n",
        "Ячейка содержит следующую информацию\n",
        "- вывод данных\n",
        "- время исполнения кода\n",
        "- порядковый номер ячейки по ходу исполнения"
      ]
    },
    {
      "cell_type": "code",
      "execution_count": null,
      "metadata": {
        "colab": {
          "base_uri": "https://localhost:8080/"
        },
        "id": "dZiYTH7nxwhO",
        "outputId": "1a42a76c-d6fa-412f-8741-f0cb9921adac"
      },
      "outputs": [
        {
          "output_type": "stream",
          "name": "stdout",
          "text": [
            "hello, world!\n"
          ]
        }
      ],
      "source": [
        "print('hello, world!')"
      ]
    },
    {
      "cell_type": "markdown",
      "metadata": {
        "id": "btcSzVGq_PtI"
      },
      "source": [
        "Текстовые ячейки оформляются как Markdown.\n",
        "\n",
        "См. [руководство по работе с Markdown](https://github.com/vifirsanova/compling/blob/main/markdown.md/).\n",
        "\n",
        "Руководство можно использовать для оформления файла README.md в вашем репозитории на GitHub."
      ]
    },
    {
      "cell_type": "markdown",
      "metadata": {
        "id": "AUWFvvLHoTgC"
      },
      "source": [
        "## Дистрибутивная семантика"
      ]
    },
    {
      "cell_type": "markdown",
      "metadata": {
        "id": "PPmc9wdBma4Z"
      },
      "source": [
        "[Efficient Estimation of Word Representations in\n",
        "Vector Space (Mikolov et al., 2013)](https://arxiv.org/pdf/1301.3781.pdf)"
      ]
    },
    {
      "cell_type": "markdown",
      "metadata": {
        "id": "DpSEGmgYoWid"
      },
      "source": [
        "### **Задача 1.** Обучаем эмбеддинги с Gensim"
      ]
    },
    {
      "cell_type": "markdown",
      "metadata": {
        "id": "YW1aas-vK1fX"
      },
      "source": [
        "Что такое Gensim?\n",
        "\n",
        "* библиотека Python с открытым исходным кодом\n",
        "* области применения:\n",
        "  * извлечение информации\n",
        "  * обработка естественного языка\n",
        "* задачи:\n",
        "  * тематическое моделирование\n",
        "  * индексирование документов\n",
        "  * поиск сходства\n",
        "\n",
        "При использовании любой библиотеки, нужно использовать ее [документацию](https://radimrehurek.com/gensim/index.html)"
      ]
    },
    {
      "cell_type": "markdown",
      "metadata": {
        "id": "XZpatL5LU0kw"
      },
      "source": [
        "Загрузим корпус текстов Шекспира напрямую из GitHub с помощью команды shell `wget`"
      ]
    },
    {
      "cell_type": "code",
      "execution_count": null,
      "metadata": {
        "colab": {
          "base_uri": "https://localhost:8080/"
        },
        "id": "_fgT4hTzMOaw",
        "outputId": "af39569f-a537-408b-cfac-da96fd325eae"
      },
      "outputs": [
        {
          "output_type": "stream",
          "name": "stdout",
          "text": [
            "--2024-01-27 10:51:35--  https://raw.githubusercontent.com/karpathy/char-rnn/master/data/tinyshakespeare/input.txt\n",
            "Resolving raw.githubusercontent.com (raw.githubusercontent.com)... 185.199.108.133, 185.199.109.133, 185.199.110.133, ...\n",
            "Connecting to raw.githubusercontent.com (raw.githubusercontent.com)|185.199.108.133|:443... connected.\n",
            "HTTP request sent, awaiting response... 200 OK\n",
            "Length: 1115394 (1.1M) [text/plain]\n",
            "Saving to: ‘input.txt’\n",
            "\n",
            "\rinput.txt             0%[                    ]       0  --.-KB/s               \rinput.txt           100%[===================>]   1.06M  --.-KB/s    in 0.04s   \n",
            "\n",
            "2024-01-27 10:51:35 (27.3 MB/s) - ‘input.txt’ saved [1115394/1115394]\n",
            "\n"
          ]
        }
      ],
      "source": [
        "!wget https://raw.githubusercontent.com/karpathy/char-rnn/master/data/tinyshakespeare/input.txt"
      ]
    },
    {
      "cell_type": "code",
      "execution_count": null,
      "metadata": {
        "colab": {
          "base_uri": "https://localhost:8080/",
          "height": 35
        },
        "id": "gMxeYQ4XYT3Y",
        "outputId": "c1ed07ad-1ccb-4529-fe40-bccc250d69b6"
      },
      "outputs": [
        {
          "output_type": "execute_result",
          "data": {
            "text/plain": [
              "'First Citizen:\\nBefore we proceed any further, hear me speak.\\n\\nAll:\\nSpeak, speak.\\n\\nFirst Citizen:\\nYou'"
            ],
            "application/vnd.google.colaboratory.intrinsic+json": {
              "type": "string"
            }
          },
          "metadata": {},
          "execution_count": 2
        }
      ],
      "source": [
        "# прописываем путь к файлу\n",
        "file_path = 'input.txt'\n",
        "\n",
        "# открываем файл для чтения ('r')\n",
        "with open(file_path, 'r') as file:\n",
        "    # записываем содержимое файла в переменную\n",
        "    text_content = file.read()\n",
        "\n",
        "# выведем на экран часть содержимого\n",
        "text_content[:100]"
      ]
    },
    {
      "cell_type": "code",
      "source": [
        "len(text_content)"
      ],
      "metadata": {
        "colab": {
          "base_uri": "https://localhost:8080/"
        },
        "id": "4NWpQ0v6i__i",
        "outputId": "5ec14ba9-740b-4f9a-efd4-58317e90d6e6"
      },
      "execution_count": null,
      "outputs": [
        {
          "output_type": "execute_result",
          "data": {
            "text/plain": [
              "1115394"
            ]
          },
          "metadata": {},
          "execution_count": 4
        }
      ]
    },
    {
      "cell_type": "markdown",
      "metadata": {
        "id": "07A5rGytK4Mx"
      },
      "source": [
        "Pre-processing / предобработка с помощью регулярных выражений и токенизатора NLTK"
      ]
    },
    {
      "cell_type": "code",
      "execution_count": null,
      "metadata": {
        "colab": {
          "base_uri": "https://localhost:8080/",
          "height": 35
        },
        "id": "p7JA0zb8Yx4n",
        "outputId": "a91449e3-dc9e-4af0-ab57-32920f368971"
      },
      "outputs": [
        {
          "output_type": "execute_result",
          "data": {
            "text/plain": [
              "'first citizen before we proceed any further hear me speak all speak speak first citizen you are all '"
            ],
            "application/vnd.google.colaboratory.intrinsic+json": {
              "type": "string"
            }
          },
          "metadata": {},
          "execution_count": 4
        }
      ],
      "source": [
        "import re\n",
        "\n",
        "def clean_text(text):\n",
        "    # приводим текст к нижнему регистру\n",
        "    text = text.lower()\n",
        "\n",
        "    # удаляем все символы кроме букв\n",
        "    text = re.sub(r'[^a-z\\s]', '', text)\n",
        "\n",
        "    # удаляем двойные пробелы\n",
        "    text = re.sub(r'\\s+', ' ', text).strip()\n",
        "\n",
        "    return text\n",
        "\n",
        "cleaned_text = clean_text(text_content)\n",
        "\n",
        "# выведем на экран часть обработанного текста\n",
        "cleaned_text[:100]"
      ]
    },
    {
      "cell_type": "code",
      "execution_count": null,
      "metadata": {
        "colab": {
          "base_uri": "https://localhost:8080/"
        },
        "id": "l9FpkVl3Z9yU",
        "outputId": "37d18cbc-0053-441c-fc4f-dd37dd0da3a5"
      },
      "outputs": [
        {
          "output_type": "stream",
          "name": "stderr",
          "text": [
            "[nltk_data] Downloading package punkt to /root/nltk_data...\n",
            "[nltk_data]   Unzipping tokenizers/punkt.zip.\n"
          ]
        },
        {
          "output_type": "execute_result",
          "data": {
            "text/plain": [
              "['first',\n",
              " 'citizen',\n",
              " 'before',\n",
              " 'we',\n",
              " 'proceed',\n",
              " 'any',\n",
              " 'further',\n",
              " 'hear',\n",
              " 'me',\n",
              " 'speak']"
            ]
          },
          "metadata": {},
          "execution_count": 5
        }
      ],
      "source": [
        "import nltk\n",
        "from nltk.tokenize import word_tokenize\n",
        "\n",
        "nltk.download('punkt')\n",
        "\n",
        "# токенизация по словам\n",
        "tokens = word_tokenize(cleaned_text)\n",
        "\n",
        "# выведем на экран несколько токенов\n",
        "tokens[:10]"
      ]
    },
    {
      "cell_type": "markdown",
      "metadata": {
        "id": "iqpKoYebK9xM"
      },
      "source": [
        "Обучение\n",
        "\n",
        "`sentences` - итерируемый объект; список токенов либо список списков токенов (токенизированных предложений)\n",
        "\n",
        "`vector_size` - размерность вектора\n",
        "\n",
        "`window` - размер контекстного окна\n",
        "\n",
        "`min_count` - пороговое значение (если слово встречается реже, оно не попадает в нашу модель)\n",
        "\n",
        "`workers` - потоки (распараллеливание для ускорение работы)"
      ]
    },
    {
      "cell_type": "code",
      "execution_count": null,
      "metadata": {
        "id": "OqaNVtsEaWZP"
      },
      "outputs": [],
      "source": [
        "from gensim.models import Word2Vec\n",
        "\n",
        "# задаем параметры нашей модели\n",
        "model = Word2Vec(sentences=[tokens], vector_size=128, window=4, min_count=2, workers=4)"
      ]
    },
    {
      "cell_type": "code",
      "execution_count": null,
      "metadata": {
        "colab": {
          "base_uri": "https://localhost:8080/"
        },
        "id": "xe6LTqHZcuxT",
        "outputId": "6e22f5da-c8c2-42c0-9c41-6e2e942ebd6e"
      },
      "outputs": [
        {
          "output_type": "execute_result",
          "data": {
            "text/plain": [
              "array([-2.9625958e-03, -9.6499352e-03,  6.9704349e-03,  2.1572320e-03,\n",
              "        4.5800274e-03, -7.4395430e-03,  7.2083785e-03, -5.1279110e-03,\n",
              "        8.0897525e-04,  4.9012117e-03,  1.1064851e-02,  2.9830605e-04,\n",
              "       -7.1927235e-03, -8.8213226e-03,  9.1941506e-03,  3.4082094e-03,\n",
              "        2.8421406e-03, -1.0048895e-03,  3.2313338e-03, -5.0658244e-03,\n",
              "        2.3353919e-03,  2.5573310e-03, -8.9155035e-03, -2.1740240e-03,\n",
              "       -8.1235990e-03,  4.1823690e-03, -6.9903256e-03,  7.5007854e-03,\n",
              "        6.0955621e-04,  4.2317030e-03, -1.0680850e-02,  9.9491971e-03,\n",
              "        6.7516989e-03,  1.3597418e-03,  4.2685806e-03,  3.9675743e-03,\n",
              "        9.9795740e-03, -4.4716541e-03,  2.5279040e-03,  3.5384721e-03,\n",
              "        1.1460065e-03,  1.0135203e-02, -6.0659791e-03,  2.2410069e-04,\n",
              "       -1.2289699e-03, -1.4138964e-03, -8.6713433e-03,  3.0450094e-03,\n",
              "       -3.0801422e-03,  5.3188950e-03,  1.3998667e-02, -2.8108920e-03,\n",
              "        6.5447018e-04,  4.4668680e-03, -1.3443410e-03, -6.8884627e-03,\n",
              "        2.0677489e-03,  3.7441808e-03, -9.6556144e-03,  4.9579241e-03,\n",
              "       -7.1217357e-03,  1.3416158e-03,  7.1874028e-03, -4.9738926e-03,\n",
              "        1.2554075e-03, -5.7316246e-03, -6.5339757e-03, -7.5055682e-04,\n",
              "       -6.4962972e-03, -1.4673292e-03, -3.1061360e-04, -1.0430749e-02,\n",
              "       -1.1085010e-02, -7.8880610e-03, -2.8321613e-03, -8.7600267e-03,\n",
              "       -6.3535981e-03, -2.4390942e-03, -1.0879853e-02, -1.3053573e-03,\n",
              "       -3.7185597e-04, -9.5283333e-03,  3.4415412e-03,  1.4587968e-02,\n",
              "        9.9997921e-03,  2.4411053e-04,  1.1826951e-02, -1.0705561e-02,\n",
              "        5.1477496e-03,  9.2256228e-03, -5.8633788e-03,  2.4569256e-03,\n",
              "        2.2408864e-03,  1.5571124e-03,  9.4538787e-03, -3.7287578e-03,\n",
              "       -5.2708047e-03, -1.2779698e-02, -3.1208035e-03, -8.1291683e-03,\n",
              "       -4.6666549e-03, -4.8418147e-03, -2.1513170e-03,  3.0467636e-03,\n",
              "        5.1379739e-03, -6.0552005e-03, -1.3279628e-03,  3.5194317e-03,\n",
              "        8.6335177e-03, -4.2412379e-03,  1.9099799e-03, -9.3893511e-03,\n",
              "        9.5864845e-04, -3.2518867e-03, -1.2975952e-02,  5.0985487e-04,\n",
              "       -1.6127857e-03,  2.0292653e-03, -4.9297074e-03, -2.8307061e-03,\n",
              "       -7.0335559e-04, -8.7923249e-03, -2.6395882e-04,  1.0495582e-02,\n",
              "       -6.6570556e-03,  7.8498582e-05, -3.1558338e-03,  3.2834085e-03],\n",
              "      dtype=float32)"
            ]
          },
          "metadata": {},
          "execution_count": 11
        }
      ],
      "source": [
        "# выведем результат обучения модели\n",
        "model.wv['king']"
      ]
    },
    {
      "cell_type": "markdown",
      "metadata": {
        "id": "8yo-qD3Poe8u"
      },
      "source": [
        "### **Задача 2.** Считаем сходство"
      ]
    },
    {
      "cell_type": "markdown",
      "metadata": {
        "id": "12Mv1ep9loUV"
      },
      "source": [
        "![image.png](data:image/png;base64,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)\n",
        "\n",
        "StandingFuture, CC BY-SA 4.0 <https://creativecommons.org/licenses/by-sa/4.0>, via Wikimedia Commons"
      ]
    },
    {
      "cell_type": "markdown",
      "source": [
        "Функция `most_similar`отображает самые похожие по векторному представлению слова и степень похожести (по косинусной мере)."
      ],
      "metadata": {
        "id": "0idqcTdyJfGq"
      }
    },
    {
      "cell_type": "code",
      "execution_count": null,
      "metadata": {
        "colab": {
          "base_uri": "https://localhost:8080/"
        },
        "id": "NUZfHvbPiKyr",
        "outputId": "48257245-be7e-4718-d797-0e77fd720eb3"
      },
      "outputs": [
        {
          "output_type": "execute_result",
          "data": {
            "text/plain": [
              "[('part', 0.7264175415039062),\n",
              " ('sudden', 0.7192797064781189),\n",
              " ('neither', 0.7191898226737976),\n",
              " ('tell', 0.7171313166618347),\n",
              " ('makes', 0.7158307433128357),\n",
              " ('keep', 0.7156261205673218),\n",
              " ('senate', 0.715485692024231),\n",
              " ('third', 0.7153489589691162),\n",
              " ('call', 0.7148478627204895),\n",
              " ('into', 0.7146128416061401)]"
            ]
          },
          "metadata": {},
          "execution_count": 12
        }
      ],
      "source": [
        "model.wv.most_similar([\"king\"])"
      ]
    },
    {
      "cell_type": "markdown",
      "source": [
        "`similarity` показывает степень вероятности, насколько слова близки"
      ],
      "metadata": {
        "id": "0UKWzwWaJucZ"
      }
    },
    {
      "cell_type": "code",
      "execution_count": null,
      "metadata": {
        "colab": {
          "base_uri": "https://localhost:8080/"
        },
        "id": "uKsvnekCjUGB",
        "outputId": "5112cbed-7471-4bf7-b506-0df29c16548f"
      },
      "outputs": [
        {
          "output_type": "execute_result",
          "data": {
            "text/plain": [
              "-0.13548335"
            ]
          },
          "metadata": {},
          "execution_count": 13
        }
      ],
      "source": [
        "model.wv.similarity('king', 'queen')"
      ]
    },
    {
      "cell_type": "code",
      "execution_count": null,
      "metadata": {
        "colab": {
          "base_uri": "https://localhost:8080/"
        },
        "id": "icXoXXLWjXcU",
        "outputId": "59d6c7c2-01ff-4fe8-fc3b-a9361cac4971"
      },
      "outputs": [
        {
          "output_type": "execute_result",
          "data": {
            "text/plain": [
              "0.06384571"
            ]
          },
          "metadata": {},
          "execution_count": 14
        }
      ],
      "source": [
        "model.wv.similarity('king', 'prince')"
      ]
    },
    {
      "cell_type": "markdown",
      "source": [
        "`doesnt_match` - модель определяет лишнее слово в списке (наименее похожее на два других)"
      ],
      "metadata": {
        "id": "IuietnUxJ5DM"
      }
    },
    {
      "cell_type": "code",
      "execution_count": null,
      "metadata": {
        "colab": {
          "base_uri": "https://localhost:8080/",
          "height": 35
        },
        "id": "muql6TUnjvKA",
        "outputId": "d86e846e-5e45-43b5-ae02-7ba1d8794220"
      },
      "outputs": [
        {
          "output_type": "execute_result",
          "data": {
            "text/plain": [
              "'queen'"
            ],
            "application/vnd.google.colaboratory.intrinsic+json": {
              "type": "string"
            }
          },
          "metadata": {},
          "execution_count": 15
        }
      ],
      "source": [
        "model.wv.doesnt_match(['king', 'prince', 'queen'])"
      ]
    },
    {
      "cell_type": "markdown",
      "metadata": {
        "id": "sPAEOUpiokYn"
      },
      "source": [
        "### **Задача 3.** Визуализация"
      ]
    },
    {
      "cell_type": "markdown",
      "source": [
        "Важный этап подготовки данных к визуализации - сокращение размерности вектора.\n",
        "\n",
        "Мы обучили вектора размером 100. Теперь нужно превратить их в 2D.\n",
        "\n",
        "Для этого используют разные алгоритмы, мы воспользуемся PCA (principal component analysis), статистической моделью, которая приводит всю информацию о полученном контенте к виду матрицы меньшей размерности, например, к виду таблицы (двухмерный массив), удобной для построения графиков и эксплораторного анализа данных.\n",
        "\n",
        "Чтобы понять, как работает PCA, можно почитать [этот блог](https://builtin.com/data-science/step-step-explanation-principal-component-analysis)."
      ],
      "metadata": {
        "id": "74pjl47wjOJK"
      }
    },
    {
      "cell_type": "code",
      "source": [
        "import matplotlib.pyplot as plt\n",
        "plt.style.use('seaborn-v0_8')\n",
        "\n",
        "from sklearn.decomposition import PCA"
      ],
      "metadata": {
        "id": "tPKUSN80e0EA"
      },
      "execution_count": null,
      "outputs": []
    },
    {
      "cell_type": "markdown",
      "source": [
        "Создаем функцию для отрисовки графика с помощью PCA."
      ],
      "metadata": {
        "id": "RAoawQZoqUv7"
      }
    },
    {
      "cell_type": "code",
      "source": [
        "def pca_scatterplot(model, words=None, sample=0):\n",
        "  word_vectors = [model.wv[w] for w in words]\n",
        "  # сократить размерность векторов до 2D\n",
        "  vectors_2d = PCA().fit_transform(word_vectors)\n",
        "  # отрисовка изображения, задаем размер 12 на 10\n",
        "  plt.figure(figsize=(6,6))\n",
        "  # задаем цвет точек и ссылаемся на данные по осям x (0) и y (1)\n",
        "  plt.scatter(vectors_2d[:,0], vectors_2d[:,1], c='g')\n",
        "  # добавляем подписи к данным, проходимся по списку слов\n",
        "  for i, word in enumerate(words):\n",
        "    # соотносим слово с его двухмерным вектором\n",
        "    plt.annotate(word, (vectors_2d[i, 0], vectors_2d[i, 1]))"
      ],
      "metadata": {
        "id": "-XQnwy42e5ru"
      },
      "execution_count": null,
      "outputs": []
    },
    {
      "cell_type": "markdown",
      "source": [
        "Для визуализации давайте посмотрим, какие эпитеты Шекспир использует для описания королей и королев!"
      ],
      "metadata": {
        "id": "zeuomOGcprBg"
      }
    },
    {
      "cell_type": "code",
      "source": [
        "pca_scatterplot(model, ['handsome', 'beautiful', 'kind', 'gentle', 'old', 'young',\n",
        "                                'prince', 'princess', 'lady', 'king', 'queen', 'lord'])"
      ],
      "metadata": {
        "colab": {
          "base_uri": "https://localhost:8080/",
          "height": 522
        },
        "id": "CkT37h7Ke9jA",
        "outputId": "ee545f7b-bc00-4389-816a-4ad2522a3c65"
      },
      "execution_count": null,
      "outputs": [
        {
          "output_type": "display_data",
          "data": {
            "text/plain": [
              "<Figure size 600x600 with 1 Axes>"
            ],
            "image/png": "[encoded data removed]"
          },
          "metadata": {}
        }
      ]
    },
    {
      "cell_type": "markdown",
      "metadata": {
        "id": "h1bu4sMVooOJ"
      },
      "source": [
        "## Домашнее задание"
      ]
    },
    {
      "cell_type": "markdown",
      "source": [
        "**Базовый уровень:**\n",
        "\n",
        "* удалить стоп-слова в корпусе текстов Шескпира, лемматизировать корпус (достаточно выбрать что-то одно)\n",
        "* заново обучить вектора\n",
        "* найти сходства и различия между отдельными векторами\n",
        "* визуализировать данные с помощью кода в заданных ячейках (можно просто перезапустить эти ячейки без изменений)\n",
        "* представить выводы о проделанной работы: удалось ли вам обнаружить связи после удаления стоп-слов, лемматизации?\n",
        "\n",
        "**Уверенный уровень:**\n",
        "\n",
        "* обучить такую же модель Word2Vec на другом, более крупном корпусе\n",
        "* найти сходства и различия между отдельными векторами\n",
        "* визуализировать данные с помощью кода в заданных ячейках\n",
        "* представить выводы о проделанной работы: удалось ли вам обнаружить какие-либо связи и отношения?\n",
        "\n",
        "**Продвинутый уровень:**\n",
        "\n",
        "* обучить FastText с помощью [туториала](https://radimrehurek.com/gensim/auto_examples/tutorials/run_fasttext.html)\n",
        "* найти сходства и различия между отдельными векторами\n",
        "* объяснить принцип работы FastText своими словами\n",
        "\n",
        "**Опционально для любого уровня:**\n",
        "\n",
        "* поиграть с визуализацией: поменять стиль, цвета графики\n",
        "* выбрать другой набор слов для визуализации\n",
        "\n"
      ],
      "metadata": {
        "id": "V7eaBKkTzNeJ"
      }
    },
    {
      "cell_type": "markdown",
      "source": [
        "### Применение модели Word2Vec на корпусе текстов \"Гарри Поттера\" (на русском языке)"
      ],
      "metadata": {
        "id": "3a3lZQJTbpSw"
      }
    },
    {
      "cell_type": "markdown",
      "source": [
        "#### Предобработка текстов"
      ],
      "metadata": {
        "id": "BnqyjC0gA5pu"
      }
    },
    {
      "cell_type": "code",
      "source": [
        "from google.colab import drive\n",
        "drive.mount('/content/drive')"
      ],
      "metadata": {
        "colab": {
          "base_uri": "https://localhost:8080/"
        },
        "id": "0WgPGRDpkQe8",
        "outputId": "36259bb2-4c9c-42bc-a790-847759601d45"
      },
      "execution_count": 2,
      "outputs": [
        {
          "output_type": "stream",
          "name": "stdout",
          "text": [
            "Mounted at /content/drive\n"
          ]
        }
      ]
    },
    {
      "cell_type": "code",
      "source": [
        "filenames = ['1_-Garri-Potter-i-filosofskiy-kamen.txt', '2_-Garri-Potter-i-taynaya-komnata.txt', '3_-Garri-Potter-i-uznik-Azkabana.txt', '4_-Garri-Potter-i-kubok-ognya.txt', '5_-Garri-Potter-i-orden-Fenixa.txt', '6_-Garri-Potter-i-prints-polukrovka_1.txt', '7_-Garri-Potter-i-dary-smerti.txt']\n",
        "text = ''\n",
        "path = '/content/drive/MyDrive/4 КУРС/Проект_КЛ/Rosman/'\n",
        "for filename in filenames:\n",
        "    with open(path+filename, 'r') as file:\n",
        "        text += file.read()"
      ],
      "metadata": {
        "id": "l-qyNjWfbo3a"
      },
      "execution_count": 3,
      "outputs": []
    },
    {
      "cell_type": "code",
      "source": [
        "text[-200:]"
      ],
      "metadata": {
        "colab": {
          "base_uri": "https://localhost:8080/",
          "height": 52
        },
        "id": "bAWspyDrbo1N",
        "outputId": "3a1fab17-3cc6-449d-f16b-ffbe78f3ea0d"
      },
      "execution_count": 4,
      "outputs": [
        {
          "output_type": "execute_result",
          "data": {
            "text/plain": [
              "'ним все будет в порядке, — тихо сказала Джинни.\\n\\nВзглянув на нее, Гарри рассеянно опустил руку и прикоснулся к шраму на лбу.\\n\\n— Конечно.\\n\\nШрам не болел уже девятнадцать лет. Все было хорошо.\\n\\n\\n\\n\\n\\n\\n\\n\\n\\n'"
            ],
            "application/vnd.google.colaboratory.intrinsic+json": {
              "type": "string"
            }
          },
          "metadata": {},
          "execution_count": 4
        }
      ]
    },
    {
      "cell_type": "code",
      "source": [
        "import re\n",
        "\n",
        "def clean_text(text):\n",
        "    # приводим текст к нижнему регистру\n",
        "    text = text.lower()\n",
        "\n",
        "    # удаляем все символы кроме букв\n",
        "    text = re.sub(r'[^а-яa-z\\s]', '', text)\n",
        "\n",
        "    # удаляем двойные пробелы\n",
        "    text = re.sub(r'\\s+', ' ', text).strip()\n",
        "\n",
        "    return text\n",
        "\n",
        "cleaned_text = clean_text(text)\n",
        "\n",
        "# выведем на экран часть обработанного текста\n",
        "cleaned_text[-200:]"
      ],
      "metadata": {
        "colab": {
          "base_uri": "https://localhost:8080/",
          "height": 52
        },
        "id": "xY6BrQUWbozG",
        "outputId": "cdddd9ab-7dc7-4b71-ee20-385c7d2f19f2"
      },
      "execution_count": 5,
      "outputs": [
        {
          "output_type": "execute_result",
          "data": {
            "text/plain": [
              "'полнял сердце грустью с ним все будет в порядке тихо сказала джинни взглянув на нее гарри рассеянно опустил руку и прикоснулся к шраму на лбу конечно шрам не болел уже девятнадцать лет все было хорошо'"
            ],
            "application/vnd.google.colaboratory.intrinsic+json": {
              "type": "string"
            }
          },
          "metadata": {},
          "execution_count": 5
        }
      ]
    },
    {
      "cell_type": "code",
      "source": [
        "!pip install pymorphy2"
      ],
      "metadata": {
        "colab": {
          "base_uri": "https://localhost:8080/"
        },
        "id": "iOunAlhj2qwF",
        "outputId": "16cd27dd-9fc9-4984-a40f-e2478242cd59"
      },
      "execution_count": 6,
      "outputs": [
        {
          "output_type": "stream",
          "name": "stdout",
          "text": [
            "Collecting pymorphy2\n",
            "  Downloading pymorphy2-0.9.1-py3-none-any.whl (55 kB)\n",
            "\u001b[?25l     \u001b[90m━━━━━━━━━━━━━━━━━━━━━━━━━━━━━━━━━━━━━━━━\u001b[0m \u001b[32m0.0/55.5 kB\u001b[0m \u001b[31m?\u001b[0m eta \u001b[36m-:--:--\u001b[0m\r\u001b[2K     \u001b[90m━━━━━━━━━━━━━━━━━━━━━━━━━━━━━━━━━━━━━━━━\u001b[0m \u001b[32m55.5/55.5 kB\u001b[0m \u001b[31m2.3 MB/s\u001b[0m eta \u001b[36m0:00:00\u001b[0m\n",
            "\u001b[?25hCollecting dawg-python>=0.7.1 (from pymorphy2)\n",
            "  Downloading DAWG_Python-0.7.2-py2.py3-none-any.whl (11 kB)\n",
            "Collecting pymorphy2-dicts-ru<3.0,>=2.4 (from pymorphy2)\n",
            "  Downloading pymorphy2_dicts_ru-2.4.417127.4579844-py2.py3-none-any.whl (8.2 MB)\n",
            "\u001b[2K     \u001b[90m━━━━━━━━━━━━━━━━━━━━━━━━━━━━━━━━━━━━━━━━\u001b[0m \u001b[32m8.2/8.2 MB\u001b[0m \u001b[31m65.5 MB/s\u001b[0m eta \u001b[36m0:00:00\u001b[0m\n",
            "\u001b[?25hCollecting docopt>=0.6 (from pymorphy2)\n",
            "  Downloading docopt-0.6.2.tar.gz (25 kB)\n",
            "  Preparing metadata (setup.py) ... \u001b[?25l\u001b[?25hdone\n",
            "Building wheels for collected packages: docopt\n",
            "  Building wheel for docopt (setup.py) ... \u001b[?25l\u001b[?25hdone\n",
            "  Created wheel for docopt: filename=docopt-0.6.2-py2.py3-none-any.whl size=13706 sha256=ac2c603ab7fdbf338972b1be51be7a0cc53c54767aed0e0e56017eeeac881bf2\n",
            "  Stored in directory: /root/.cache/pip/wheels/fc/ab/d4/5da2067ac95b36618c629a5f93f809425700506f72c9732fac\n",
            "Successfully built docopt\n",
            "Installing collected packages: pymorphy2-dicts-ru, docopt, dawg-python, pymorphy2\n",
            "Successfully installed dawg-python-0.7.2 docopt-0.6.2 pymorphy2-0.9.1 pymorphy2-dicts-ru-2.4.417127.4579844\n"
          ]
        }
      ]
    },
    {
      "cell_type": "code",
      "source": [
        "import nltk\n",
        "from nltk.tokenize import word_tokenize\n",
        "\n",
        "nltk.download('punkt')\n",
        "\n",
        "import pymorphy2\n",
        "morph = pymorphy2.MorphAnalyzer()"
      ],
      "metadata": {
        "colab": {
          "base_uri": "https://localhost:8080/"
        },
        "id": "8Nsbv8libow8",
        "outputId": "27009712-5b01-48fa-f147-6ba3bae0f2b6"
      },
      "execution_count": 7,
      "outputs": [
        {
          "output_type": "stream",
          "name": "stderr",
          "text": [
            "[nltk_data] Downloading package punkt to /root/nltk_data...\n",
            "[nltk_data]   Unzipping tokenizers/punkt.zip.\n"
          ]
        }
      ]
    },
    {
      "cell_type": "code",
      "source": [
        "# токенизация по словам\n",
        "tokens = word_tokenize(cleaned_text)\n",
        "# лемматизация\n",
        "lemmas = [(morph.parse(word)[0]).normal_form for word in tokens]\n",
        "lemmas[:20]"
      ],
      "metadata": {
        "colab": {
          "base_uri": "https://localhost:8080/"
        },
        "id": "_mrzAnN20VL1",
        "outputId": "4f9153e8-c0f9-47c4-aab2-e67e721b8baa"
      },
      "execution_count": 8,
      "outputs": [
        {
          "output_type": "execute_result",
          "data": {
            "text/plain": [
              "['джоан',\n",
              " 'роулинга',\n",
              " 'гарри',\n",
              " 'поттер',\n",
              " 'и',\n",
              " 'философский',\n",
              " 'камень',\n",
              " 'глава',\n",
              " 'мальчик',\n",
              " 'который',\n",
              " 'выжить',\n",
              " 'мистер',\n",
              " 'и',\n",
              " 'миссис',\n",
              " 'дурсль',\n",
              " 'проживать',\n",
              " 'в',\n",
              " 'дом',\n",
              " 'номер',\n",
              " 'четыре']"
            ]
          },
          "metadata": {},
          "execution_count": 8
        }
      ]
    },
    {
      "cell_type": "code",
      "source": [
        "# сохраним токены и леммы в отдельные файлы для последующего использования\n",
        "with open('harry_potter_ru_tokenized.txt', 'w', encoding='utf-8') as file:\n",
        "    file.write(' '.join(tokens))\n",
        "with open('harry_potter_ru_lemmatized.txt', 'w', encoding='utf-8') as file:\n",
        "    file.write(' '.join(lemmas))"
      ],
      "metadata": {
        "id": "mIY95FFHLQqW"
      },
      "execution_count": 67,
      "outputs": []
    },
    {
      "cell_type": "markdown",
      "source": [
        "#### Обучение модели"
      ],
      "metadata": {
        "id": "1lTAO37rBUnK"
      }
    },
    {
      "cell_type": "code",
      "source": [
        "from gensim.models import Word2Vec\n",
        "\n",
        "# обучим две версии модели: одну - на токенизированных текстах, другую - на лемматизированных\n",
        "model_t = Word2Vec(sentences=[tokens], vector_size=256, window=4, min_count=2, workers=4)\n",
        "model_l = Word2Vec(sentences=[lemmas], vector_size=256, window=4, min_count=2, workers=4)"
      ],
      "metadata": {
        "id": "E_e_AWsybou1"
      },
      "execution_count": 12,
      "outputs": []
    },
    {
      "cell_type": "code",
      "source": [
        "# проверим работу обеих моделей\n",
        "model_t.wv['волшебник']"
      ],
      "metadata": {
        "colab": {
          "base_uri": "https://localhost:8080/"
        },
        "id": "pKbZUyQ7bosB",
        "outputId": "2c7b1319-d59d-473d-bc3b-857f940925c7"
      },
      "execution_count": 13,
      "outputs": [
        {
          "output_type": "execute_result",
          "data": {
            "text/plain": [
              "array([ 2.75345007e-03,  1.07277185e-04, -3.90584581e-03, -2.45025381e-03,\n",
              "        1.51602831e-03, -2.77920021e-03,  3.52310436e-03, -4.68343031e-04,\n",
              "        2.43611680e-03, -3.01989773e-03, -9.39204823e-04,  5.15977852e-04,\n",
              "        2.54348526e-03,  1.71885779e-03,  2.52053048e-03,  1.93813071e-03,\n",
              "        1.55758671e-03,  2.89179524e-03, -2.79614236e-04, -3.12923733e-03,\n",
              "        2.86218571e-03, -1.27375452e-03, -1.39069511e-03, -2.13631382e-03,\n",
              "        2.45964248e-03,  1.54170534e-03, -1.56123936e-03,  9.03233420e-04,\n",
              "        2.01959955e-03,  2.68463930e-03, -3.83660197e-04, -2.65196944e-03,\n",
              "        1.28336251e-05, -3.56914196e-03, -3.46060842e-05, -1.25904847e-03,\n",
              "        1.11863855e-03, -2.20063236e-03, -2.07478506e-03,  1.18192099e-03,\n",
              "        2.84787640e-03,  2.64805276e-04, -5.19760884e-04,  3.51918535e-03,\n",
              "        3.06161493e-03, -5.70325181e-04,  1.60271348e-03, -3.18006380e-03,\n",
              "        2.76224175e-03, -1.90903759e-03,  2.64772167e-03, -1.57961203e-03,\n",
              "        2.78953556e-03,  2.58326903e-03, -2.84694508e-03,  2.84326915e-03,\n",
              "       -2.99314642e-03,  1.73952896e-04,  2.97146896e-03, -2.06268532e-03,\n",
              "        2.89766304e-03,  2.91449204e-03, -4.32110392e-05, -2.55804043e-03,\n",
              "        2.97540100e-03,  2.27920432e-03,  2.92605069e-03, -3.85345798e-03,\n",
              "       -1.81815121e-04,  3.77579173e-03,  1.22053735e-03, -3.34254466e-03,\n",
              "        8.32099933e-04, -1.94869889e-03, -1.10063329e-03, -3.56120756e-03,\n",
              "       -2.88375933e-03,  2.11167056e-03,  2.72098789e-03, -2.48538516e-03,\n",
              "       -3.02777067e-03, -1.30823115e-03,  1.33014377e-03, -1.87149365e-03,\n",
              "        9.45354812e-04, -1.90725876e-03, -8.83428380e-04, -1.34201255e-04,\n",
              "        3.68478196e-03,  3.44842626e-03,  9.78009775e-04,  4.75193374e-05,\n",
              "        3.39660747e-03, -3.37953307e-03,  2.10040249e-03,  2.04743119e-03,\n",
              "        3.89545457e-03,  1.31359138e-03, -7.14273192e-05,  2.81539466e-03,\n",
              "        5.99415507e-04, -3.89309460e-03,  5.97869977e-04, -1.92717649e-04,\n",
              "        6.11759257e-04,  3.62559734e-03,  1.99022563e-03,  3.07190372e-03,\n",
              "       -6.41142484e-04,  1.96372671e-03, -2.46692961e-03, -1.37476530e-03,\n",
              "        3.32613615e-03,  7.16472045e-04, -7.26804137e-05, -6.47595618e-04,\n",
              "       -1.27067324e-03, -9.53815412e-04,  7.59662129e-04,  2.40686815e-04,\n",
              "        3.75203975e-03,  2.42174091e-03, -2.44303513e-03,  1.24674942e-03,\n",
              "       -1.73839089e-03, -1.09678134e-03, -7.74833839e-04,  2.58859154e-03,\n",
              "       -2.23130453e-04,  3.43617285e-03, -9.49259382e-04, -1.83879444e-03,\n",
              "       -3.28661548e-03, -6.20587263e-04, -6.49620313e-04,  3.76140187e-03,\n",
              "        2.47673457e-03,  1.88454380e-03, -2.78397743e-03, -1.70668727e-03,\n",
              "       -3.89551558e-03,  2.78505497e-04,  6.03738707e-04, -2.50536250e-03,\n",
              "        2.35095527e-03, -2.61149928e-03, -1.41880149e-03, -1.13992952e-04,\n",
              "       -1.33511331e-03, -2.95802392e-03, -1.89609546e-03,  1.58033939e-03,\n",
              "       -5.34612220e-04, -2.34016078e-03,  1.60147483e-03,  3.12882382e-03,\n",
              "        1.15041062e-03, -2.25474592e-03,  1.84230134e-03,  5.39280009e-04,\n",
              "       -1.08784577e-03,  3.11105838e-03, -1.53428549e-03,  1.07814511e-03,\n",
              "        2.07759393e-03, -8.93879216e-04, -2.16635037e-03,  3.24183516e-03,\n",
              "        4.18676529e-04, -3.81526351e-03,  3.30525730e-03,  1.57195795e-03,\n",
              "       -3.07062408e-03, -2.26893555e-03, -2.72367289e-03, -1.13244122e-03,\n",
              "        1.11493096e-03,  1.67687424e-04, -2.74652150e-03, -2.91602220e-04,\n",
              "       -3.26437782e-03, -8.75694677e-05,  5.67152631e-04,  2.80337967e-03,\n",
              "       -3.55389249e-03, -8.84454232e-04,  8.17311462e-04,  6.04218803e-04,\n",
              "       -2.54338142e-04, -1.35701615e-03,  9.61236190e-04, -1.70562416e-04,\n",
              "        2.68432777e-04,  3.52624105e-03, -3.67310131e-03, -3.81707447e-03,\n",
              "       -3.80660081e-03,  4.11188230e-04, -3.38970358e-03,  4.85545024e-04,\n",
              "       -2.97303312e-04,  3.06735514e-03, -2.37292843e-03, -1.51092000e-03,\n",
              "       -3.81305814e-03,  8.53036530e-04, -3.79272923e-03,  2.39904551e-03,\n",
              "        7.56498426e-04, -8.10819212e-04, -1.63585646e-03, -3.34152579e-03,\n",
              "        3.80504876e-03, -3.74559313e-04, -2.50030356e-03, -1.37910247e-05,\n",
              "       -1.85157824e-03, -9.49191861e-04,  1.89975603e-03, -2.35929014e-03,\n",
              "       -2.94680800e-03, -6.96993899e-04, -2.35609617e-03, -3.74466600e-03,\n",
              "        1.01622893e-03, -1.57989888e-03, -3.35567724e-03, -3.18446476e-03,\n",
              "       -9.94087663e-04, -9.20024235e-04, -5.85346948e-04,  3.52799240e-03,\n",
              "       -2.19846005e-03, -9.35105141e-04,  3.27584147e-03,  2.75149057e-03,\n",
              "        1.03130331e-03, -4.23319172e-04, -7.30631873e-04,  1.99617213e-03,\n",
              "        3.39330733e-03, -2.62499042e-03, -1.99728832e-03, -4.36607748e-04,\n",
              "       -2.36322917e-03,  2.23378325e-03,  2.58346554e-03, -8.34347215e-04,\n",
              "        3.21560306e-03,  3.12662218e-04, -8.89665447e-04, -1.30550470e-03,\n",
              "       -2.23047473e-03,  2.08831858e-03, -2.05860799e-03,  1.97594566e-03],\n",
              "      dtype=float32)"
            ]
          },
          "metadata": {},
          "execution_count": 13
        }
      ]
    },
    {
      "cell_type": "code",
      "source": [
        "model_l.wv['волшебник']"
      ],
      "metadata": {
        "colab": {
          "base_uri": "https://localhost:8080/"
        },
        "id": "ptNFqenoDInE",
        "outputId": "bfa1876f-eb60-4ae1-b110-42525f352dac"
      },
      "execution_count": 14,
      "outputs": [
        {
          "output_type": "execute_result",
          "data": {
            "text/plain": [
              "array([-3.3663916e-03,  7.5925933e-04,  1.2340909e-04, -1.6539032e-03,\n",
              "        1.9198218e-03, -1.5222146e-03, -2.1229326e-03, -2.5469838e-03,\n",
              "        2.9484406e-03,  7.2633754e-04, -3.8055792e-03,  6.4938329e-05,\n",
              "       -4.6028662e-04,  3.7033283e-03,  2.4101837e-03,  3.8940613e-03,\n",
              "       -1.6023591e-03,  6.0874270e-04, -7.5901207e-04, -4.2757997e-04,\n",
              "        1.8423828e-03,  1.0638591e-04,  2.5989697e-03, -3.4641018e-03,\n",
              "        1.7768308e-03, -4.5114197e-04, -3.1604534e-03, -4.2916276e-04,\n",
              "       -2.4897568e-03, -2.8196597e-03, -3.5301736e-03,  3.4667943e-03,\n",
              "        3.7502097e-03,  3.3943979e-03,  3.1219311e-03,  1.1224868e-03,\n",
              "        3.6701239e-03,  1.3238182e-03,  1.5851674e-03,  3.8718614e-03,\n",
              "        2.4473714e-04, -3.8184696e-03,  1.3081883e-03,  3.1221216e-03,\n",
              "        2.2596139e-03, -6.4692786e-04,  3.7961584e-03, -3.8416465e-03,\n",
              "        1.4032056e-03, -1.7009703e-03, -2.5440333e-04, -4.0276442e-04,\n",
              "       -2.3034490e-03, -6.3148700e-04,  5.7411287e-04, -2.9506083e-03,\n",
              "       -4.1735824e-04, -2.5030719e-03, -3.0502751e-03,  7.6320954e-05,\n",
              "       -3.5398835e-03, -3.1652823e-03,  3.8993158e-03,  2.2169058e-03,\n",
              "        1.4341287e-03,  3.4609204e-04, -2.1806951e-03,  9.3670283e-04,\n",
              "       -2.6320238e-03,  1.2658420e-03, -3.8636820e-03,  2.8875647e-03,\n",
              "        2.0037983e-03, -3.6651539e-03,  4.7146389e-04,  2.4837074e-03,\n",
              "       -5.7567842e-04, -1.6949992e-03, -2.5576539e-03, -1.4136373e-03,\n",
              "       -3.0404544e-03, -3.7798933e-03, -1.1085533e-03,  2.2939737e-03,\n",
              "       -1.6575377e-03, -3.8354052e-04, -1.7670523e-03,  3.8560731e-03,\n",
              "       -2.4889088e-03, -3.4349402e-03, -1.3033524e-03,  1.4259252e-03,\n",
              "       -1.7953962e-03, -3.4542987e-03,  3.6839298e-03,  2.8000548e-03,\n",
              "       -1.5336592e-03, -3.6095078e-03, -3.1235763e-03,  9.7644189e-04,\n",
              "       -1.3055429e-03,  2.9176557e-03, -3.7618526e-03, -1.9779992e-03,\n",
              "        1.6761948e-03, -4.3767225e-04,  7.8689260e-04,  3.1293537e-03,\n",
              "       -2.0537898e-03, -2.3045880e-03,  1.7008260e-03,  3.6526206e-03,\n",
              "        2.2895769e-03, -1.9662669e-03,  2.6211953e-03,  3.2100445e-03,\n",
              "        1.5788414e-03, -2.3287875e-03, -2.1027732e-03,  3.8042981e-03,\n",
              "        2.5869971e-03,  1.0146569e-03, -1.7450796e-04, -1.5477100e-03,\n",
              "       -3.6043692e-03,  1.5143072e-04, -3.1114118e-03, -3.6904919e-03,\n",
              "        1.5318161e-04,  3.2774699e-03,  1.8257000e-03, -2.7861944e-03,\n",
              "        9.4368961e-04,  1.2658355e-03,  3.3215834e-03,  2.4440740e-03,\n",
              "       -4.2611919e-04, -1.0367893e-03, -1.0336926e-03, -1.7867065e-03,\n",
              "       -1.1161808e-04,  6.5736799e-04, -2.5287187e-03,  1.7581545e-03,\n",
              "       -7.3353481e-04,  3.9651664e-04, -2.1187034e-03, -2.3871423e-03,\n",
              "       -8.5095363e-04, -1.4299531e-03,  7.6860609e-04, -1.7770757e-03,\n",
              "        3.5906304e-03,  3.8835276e-03, -3.4244144e-03, -1.5180744e-03,\n",
              "        3.6887345e-03,  2.9601012e-03, -3.1357496e-03,  3.0872417e-03,\n",
              "       -8.0460636e-04, -1.9095805e-03,  1.1753230e-03,  3.7774486e-03,\n",
              "        2.4264059e-03,  3.5825274e-03,  1.1576102e-03,  2.3599146e-03,\n",
              "        3.2392810e-03,  1.5759831e-03,  2.4064607e-03, -1.6267374e-03,\n",
              "       -6.2532490e-04, -1.5388927e-03,  3.9235596e-04,  2.0804689e-03,\n",
              "        1.8523056e-03,  2.9573925e-03,  8.3020516e-04,  3.2975306e-03,\n",
              "        1.3858555e-03,  2.7730674e-03, -1.2650969e-03,  1.5818761e-03,\n",
              "       -3.4665572e-03, -1.6076993e-03,  2.7921041e-03,  6.5546483e-06,\n",
              "       -2.7029426e-03,  3.4354203e-03, -2.1011252e-03,  3.3965814e-03,\n",
              "       -1.5109191e-03, -2.1651522e-03,  2.6056310e-04,  3.6371988e-03,\n",
              "        2.5710072e-03,  3.4956019e-03,  3.7582298e-03, -4.6552299e-04,\n",
              "        3.7016207e-04,  3.1954465e-03, -3.3430709e-03,  3.3686869e-03,\n",
              "        2.0730905e-03,  1.4351965e-03,  1.5778253e-03,  3.5203896e-03,\n",
              "        2.6845685e-03,  7.3539698e-04, -2.7368502e-03, -2.0905524e-03,\n",
              "       -3.0186707e-03, -1.3825954e-03, -2.4885256e-03,  2.3441147e-03,\n",
              "        4.5427307e-04,  6.2134303e-04, -1.9056792e-03,  1.7377781e-03,\n",
              "       -1.1214325e-03, -4.0543871e-04,  4.4827349e-05,  3.8436484e-03,\n",
              "       -1.2754034e-03, -2.9271296e-03, -2.1567605e-03, -1.1313916e-03,\n",
              "       -3.0251034e-03, -3.8916264e-03,  1.5352047e-03,  7.9829944e-04,\n",
              "        3.0835252e-04, -8.4707281e-04,  3.2471921e-03,  4.0904619e-05,\n",
              "        1.4402429e-03,  2.3024175e-03, -1.6164887e-03, -1.8984540e-03,\n",
              "        1.5300321e-03,  3.1825691e-03, -3.8993722e-03, -1.6971477e-03,\n",
              "       -6.8608252e-04,  6.9989823e-04, -1.7526108e-03, -1.6912455e-03,\n",
              "        2.1148459e-03, -2.7638227e-03,  2.7251006e-03, -3.6652028e-03,\n",
              "        2.6362515e-03, -2.9282747e-03,  5.4511195e-04, -1.2519048e-03],\n",
              "      dtype=float32)"
            ]
          },
          "metadata": {},
          "execution_count": 14
        }
      ]
    },
    {
      "cell_type": "markdown",
      "source": [
        "#### Вычисление сходства и визуализация"
      ],
      "metadata": {
        "id": "8Ya4IXAsDVRd"
      }
    },
    {
      "cell_type": "code",
      "source": [
        "model_t.wv.most_similar([\"хогвартс\"])"
      ],
      "metadata": {
        "colab": {
          "base_uri": "https://localhost:8080/"
        },
        "id": "_1ZMmyMCbopU",
        "outputId": "db09b322-b0d2-4142-9176-ec29004f42eb"
      },
      "execution_count": 41,
      "outputs": [
        {
          "output_type": "execute_result",
          "data": {
            "text/plain": [
              "[('упор', 0.3115347623825073),\n",
              " ('прислониться', 0.25716763734817505),\n",
              " ('позвать', 0.25387290120124817),\n",
              " ('черепаху', 0.2393714189529419),\n",
              " ('возникали', 0.23301821947097778),\n",
              " ('разойтись', 0.22734491527080536),\n",
              " ('пробудила', 0.225017249584198),\n",
              " ('роде', 0.2200518101453781),\n",
              " ('обручем', 0.21855726838111877),\n",
              " ('выглядывая', 0.21625018119812012)]"
            ]
          },
          "metadata": {},
          "execution_count": 41
        }
      ]
    },
    {
      "cell_type": "code",
      "source": [
        "model_l.wv.most_similar([\"хогвартс\"])"
      ],
      "metadata": {
        "colab": {
          "base_uri": "https://localhost:8080/"
        },
        "id": "9djodDl619hJ",
        "outputId": "cff76976-5bf3-4b08-f4f7-68fbdd424008"
      },
      "execution_count": 42,
      "outputs": [
        {
          "output_type": "execute_result",
          "data": {
            "text/plain": [
              "[('соперник', 0.21735027432441711),\n",
              " ('закрываться', 0.21020010113716125),\n",
              " ('амфитеатр', 0.20468783378601074),\n",
              " ('модификация', 0.20281191170215607),\n",
              " ('сквиб', 0.19644445180892944),\n",
              " ('заторопиться', 0.19422517716884613),\n",
              " ('унизить', 0.19348853826522827),\n",
              " ('горячо', 0.19251520931720734),\n",
              " ('высказаться', 0.19226180016994476),\n",
              " ('вопреки', 0.19090327620506287)]"
            ]
          },
          "metadata": {},
          "execution_count": 42
        }
      ]
    },
    {
      "cell_type": "markdown",
      "source": [
        "Кажется, что результаты модели не слишком интерпретируемые..."
      ],
      "metadata": {
        "id": "W3OOsc6HOVI5"
      }
    },
    {
      "cell_type": "code",
      "source": [
        "model_t.wv.similarity('гарри', 'рон')"
      ],
      "metadata": {
        "colab": {
          "base_uri": "https://localhost:8080/"
        },
        "outputId": "7d9d67ce-92d2-41d1-8d74-3759d878d334",
        "id": "AeiX6_-L7SwH"
      },
      "execution_count": 56,
      "outputs": [
        {
          "output_type": "execute_result",
          "data": {
            "text/plain": [
              "0.024573658"
            ]
          },
          "metadata": {},
          "execution_count": 56
        }
      ]
    },
    {
      "cell_type": "code",
      "source": [
        "model_t.wv.similarity('гермиона', 'рон')"
      ],
      "metadata": {
        "colab": {
          "base_uri": "https://localhost:8080/"
        },
        "outputId": "1b226b13-136f-4505-ad01-e1b807d5d867",
        "id": "z0yOjvXU7SwJ"
      },
      "execution_count": 51,
      "outputs": [
        {
          "output_type": "execute_result",
          "data": {
            "text/plain": [
              "-0.00720967"
            ]
          },
          "metadata": {},
          "execution_count": 51
        }
      ]
    },
    {
      "cell_type": "code",
      "source": [
        "model_t.wv.doesnt_match(['гарри', 'рон', 'гермиона'])"
      ],
      "metadata": {
        "colab": {
          "base_uri": "https://localhost:8080/",
          "height": 35
        },
        "outputId": "11ef6d73-2e53-41fc-d5d1-bff114a5b4b0",
        "id": "0VKN4pk37SwJ"
      },
      "execution_count": 49,
      "outputs": [
        {
          "output_type": "execute_result",
          "data": {
            "text/plain": [
              "'гермиона'"
            ],
            "application/vnd.google.colaboratory.intrinsic+json": {
              "type": "string"
            }
          },
          "metadata": {},
          "execution_count": 49
        }
      ]
    },
    {
      "cell_type": "code",
      "source": [
        "model_l.wv.similarity('гарри', 'рон')"
      ],
      "metadata": {
        "colab": {
          "base_uri": "https://localhost:8080/"
        },
        "id": "8Wg8Zhylbolr",
        "outputId": "59bf225f-9024-4159-db52-c41b7c8bab4e"
      },
      "execution_count": 52,
      "outputs": [
        {
          "output_type": "execute_result",
          "data": {
            "text/plain": [
              "-0.0016268399"
            ]
          },
          "metadata": {},
          "execution_count": 52
        }
      ]
    },
    {
      "cell_type": "code",
      "source": [
        "model_l.wv.similarity('гермиона', 'рон')"
      ],
      "metadata": {
        "colab": {
          "base_uri": "https://localhost:8080/"
        },
        "id": "tVxq2qef6ehS",
        "outputId": "4977e7c3-ff9d-45fe-e564-b1581b69ce38"
      },
      "execution_count": 53,
      "outputs": [
        {
          "output_type": "execute_result",
          "data": {
            "text/plain": [
              "0.079216495"
            ]
          },
          "metadata": {},
          "execution_count": 53
        }
      ]
    },
    {
      "cell_type": "code",
      "source": [
        "model_l.wv.doesnt_match(['гарри', 'рон', 'гермиона'])"
      ],
      "metadata": {
        "colab": {
          "base_uri": "https://localhost:8080/",
          "height": 35
        },
        "id": "qkgmEabSboeH",
        "outputId": "6d5a7c7b-8cae-459f-cb4a-712aaa4d58bc"
      },
      "execution_count": 54,
      "outputs": [
        {
          "output_type": "execute_result",
          "data": {
            "text/plain": [
              "'гарри'"
            ],
            "application/vnd.google.colaboratory.intrinsic+json": {
              "type": "string"
            }
          },
          "metadata": {},
          "execution_count": 54
        }
      ]
    },
    {
      "cell_type": "markdown",
      "source": [
        "Можно предположить, что модель, обученная без лемматизации, работает лучше, так как распознает близость слов \"Гарри\" и \"Рон\" по полу."
      ],
      "metadata": {
        "id": "gyDSF8tDOsu9"
      }
    },
    {
      "cell_type": "code",
      "source": [
        "model_t.wv.similarity('волшебник', 'маг')"
      ],
      "metadata": {
        "colab": {
          "base_uri": "https://localhost:8080/"
        },
        "id": "WhR2WxajPH_-",
        "outputId": "c0ed1f1d-f00b-4a72-8dfd-e1c54692e6ff"
      },
      "execution_count": 60,
      "outputs": [
        {
          "output_type": "execute_result",
          "data": {
            "text/plain": [
              "0.044960782"
            ]
          },
          "metadata": {},
          "execution_count": 60
        }
      ]
    },
    {
      "cell_type": "code",
      "source": [
        "model_l.wv.similarity('волшебник', 'маг')"
      ],
      "metadata": {
        "colab": {
          "base_uri": "https://localhost:8080/"
        },
        "id": "UAhhaIYpPR_e",
        "outputId": "a8fda9d9-61bc-46f9-9350-b8fa11b9e071"
      },
      "execution_count": 58,
      "outputs": [
        {
          "output_type": "execute_result",
          "data": {
            "text/plain": [
              "0.046756905"
            ]
          },
          "metadata": {},
          "execution_count": 58
        }
      ]
    },
    {
      "cell_type": "markdown",
      "source": [
        "На примерах \"волшебник\" и \"маг\" модели показывают примерно равную схожесть."
      ],
      "metadata": {
        "id": "Z2rxK7onPjWw"
      }
    },
    {
      "cell_type": "markdown",
      "source": [
        "Визуализируем:"
      ],
      "metadata": {
        "id": "IBcO1PjLPrjJ"
      }
    },
    {
      "cell_type": "code",
      "source": [
        "import matplotlib.pyplot as plt\n",
        "plt.style.use('seaborn-v0_8')\n",
        "\n",
        "from sklearn.decomposition import PCA"
      ],
      "metadata": {
        "id": "dEqQrIwXboOu"
      },
      "execution_count": 62,
      "outputs": []
    },
    {
      "cell_type": "code",
      "source": [
        "def pca_scatterplot(model, words=None, sample=0):\n",
        "  word_vectors = [model.wv[w] for w in words]\n",
        "  # сократить размерность векторов до 2D\n",
        "  vectors_2d = PCA().fit_transform(word_vectors)\n",
        "  # отрисовка изображения, задаем размер 6 на 6\n",
        "  plt.figure(figsize=(6,6))\n",
        "  # задаем цвет точек и ссылаемся на данные по осям x (0) и y (1)\n",
        "  plt.scatter(vectors_2d[:,0], vectors_2d[:,1], c='b')\n",
        "  # добавляем подписи к данным, проходимся по списку слов\n",
        "  for i, word in enumerate(words):\n",
        "    # соотносим слово с его двухмерным вектором\n",
        "    plt.annotate(word, (vectors_2d[i, 0], vectors_2d[i, 1]))"
      ],
      "metadata": {
        "id": "qCu2tHHl4Hx2"
      },
      "execution_count": 63,
      "outputs": []
    },
    {
      "cell_type": "code",
      "source": [
        "pca_scatterplot(model_t, ['гарри', 'рон', 'гермиона', 'драко', 'гриффиндор', 'когтевран',\n",
        "                          'слизерин', 'пуффендуй'])\n",
        "pca_scatterplot(model_l, ['гарри', 'рон', 'гермиона', 'драко', 'гриффиндор', 'когтевран',\n",
        "                          'слизерин', 'пуффендовать'])\n",
        "# в лемматизированной версии \"Пуффендуй\" превратился в \"пуффендовать\" xD"
      ],
      "metadata": {
        "colab": {
          "base_uri": "https://localhost:8080/",
          "height": 1000
        },
        "id": "OcNjNUfb4Htk",
        "outputId": "c7ab25e5-8f99-4eb9-c62a-a0ece5747ee7"
      },
      "execution_count": 68,
      "outputs": [
        {
          "output_type": "display_data",
          "data": {
            "text/plain": [
              "<Figure size 600x600 with 1 Axes>"
            ],
            "image/png": "[encoded data removed]"
          },
          "metadata": {}
        },
        {
          "output_type": "display_data",
          "data": {
            "text/plain": [
              "<Figure size 600x600 with 1 Axes>"
            ],
            "image/png": "[encoded data removed]"
          },
          "metadata": {}
        }
      ]
    },
    {
      "cell_type": "markdown",
      "source": [
        "Любопытно, что обученная на леммах модель показывает более логичные результаты: близко находятся вектора слов \"Драко\" и \"Слизерин\", \"Гермиона\" и \"Гриффиндор\". В то же время в обеих моделях парадоксально сходны вектора \"Рон\" и \"Пуффендуй\", а вектор \"Гарри\" отдален от всех остальных."
      ],
      "metadata": {
        "id": "WzjJYWAeRcXr"
      }
    },
    {
      "cell_type": "markdown",
      "source": [
        "### Применение модели FastText"
      ],
      "metadata": {
        "id": "SIKviWK7EL_w"
      }
    },
    {
      "cell_type": "markdown",
      "source": [
        "Модель FastText так же обучает эмбеддинги слов, но, в отличие от Word2Vec, рассматривает слово не целиком, как единый элемент, а как совокупность морфем (subwords), которые считаются нграммами символов, из которых состоит слово. Таким образом, вектор слова — сумма всех векторов его символов. FastText справляется с синтаксическими задачами лучше Word2Vec и полезен при обработке морфологически богатых языков."
      ],
      "metadata": {
        "id": "Y0SNfooREyJ0"
      }
    },
    {
      "cell_type": "markdown",
      "source": [
        "#### Предобработка корпуса"
      ],
      "metadata": {
        "id": "A6O46noWc2Da"
      }
    },
    {
      "cell_type": "code",
      "source": [
        "from nltk.tokenize import sent_tokenize\n",
        "def clean_sents(text):\n",
        "    # приводим текст к нижнему регистру\n",
        "    text = text.lower()\n",
        "\n",
        "    # удаляем двойные пробелы\n",
        "    text = re.sub(r'\\s+', ' ', text).strip()\n",
        "\n",
        "    # заменяем все знаки препинания в конце предложений на точку\n",
        "    text = re.sub(r'[\\!\\?\\.]+', '.', text)\n",
        "\n",
        "    # удаляем все символы кроме букв, точек и пробелов\n",
        "    text = re.sub(r'[^а-яa-z\\.\\s]', '', text)\n",
        "\n",
        "    # делим текст на предложения\n",
        "    text = sent_tokenize(text)\n",
        "\n",
        "    return text\n",
        "\n",
        "cleaned_sents = clean_sents(text)\n",
        "\n",
        "# выведем на экран часть обработанного текста\n",
        "cleaned_sents[1]"
      ],
      "metadata": {
        "colab": {
          "base_uri": "https://localhost:8080/",
          "height": 52
        },
        "id": "PosEDf_DZGjF",
        "outputId": "431c9e08-da08-4fbb-8e3b-c1af9964d184"
      },
      "execution_count": 110,
      "outputs": [
        {
          "output_type": "execute_result",
          "data": {
            "text/plain": [
              "'уж от когокого а от них никак нельзя было ожидать чтобы они попали в какуюнибудь странную или загадочную историю.'"
            ],
            "application/vnd.google.colaboratory.intrinsic+json": {
              "type": "string"
            }
          },
          "metadata": {},
          "execution_count": 110
        }
      ]
    },
    {
      "cell_type": "code",
      "source": [
        "# приведем корпус к виду, который подается на вход модели (список списков со словами по предложениям)\n",
        "sents = [(re.sub(r'\\.', '', sent)).split() for sent in cleaned_sents]"
      ],
      "metadata": {
        "id": "GvJUB2vabSso"
      },
      "execution_count": 129,
      "outputs": []
    },
    {
      "cell_type": "code",
      "source": [
        "sents[:10]"
      ],
      "metadata": {
        "colab": {
          "base_uri": "https://localhost:8080/"
        },
        "id": "-29MUpUxfLac",
        "outputId": "32330a59-9b36-459b-9fb0-3179d90ec9c1"
      },
      "execution_count": 130,
      "outputs": [
        {
          "output_type": "execute_result",
          "data": {
            "text/plain": [
              "[['джоан',\n",
              "  'роулинг',\n",
              "  'гарри',\n",
              "  'поттер',\n",
              "  'и',\n",
              "  'философский',\n",
              "  'камень',\n",
              "  'глава',\n",
              "  'мальчик',\n",
              "  'который',\n",
              "  'выжил',\n",
              "  'мистер',\n",
              "  'и',\n",
              "  'миссис',\n",
              "  'дурсль',\n",
              "  'проживали',\n",
              "  'в',\n",
              "  'доме',\n",
              "  'номер',\n",
              "  'четыре',\n",
              "  'по',\n",
              "  'тисовой',\n",
              "  'улице',\n",
              "  'и',\n",
              "  'всегда',\n",
              "  'с',\n",
              "  'гордостью',\n",
              "  'заявляли',\n",
              "  'что',\n",
              "  'они',\n",
              "  'слава',\n",
              "  'богу',\n",
              "  'абсолютно',\n",
              "  'нормальные',\n",
              "  'люди'],\n",
              " ['уж',\n",
              "  'от',\n",
              "  'когокого',\n",
              "  'а',\n",
              "  'от',\n",
              "  'них',\n",
              "  'никак',\n",
              "  'нельзя',\n",
              "  'было',\n",
              "  'ожидать',\n",
              "  'чтобы',\n",
              "  'они',\n",
              "  'попали',\n",
              "  'в',\n",
              "  'какуюнибудь',\n",
              "  'странную',\n",
              "  'или',\n",
              "  'загадочную',\n",
              "  'историю'],\n",
              " ['мистер',\n",
              "  'и',\n",
              "  'миссис',\n",
              "  'дурсль',\n",
              "  'весьма',\n",
              "  'неодобрительно',\n",
              "  'относились',\n",
              "  'к',\n",
              "  'любым',\n",
              "  'странностям',\n",
              "  'загадкам',\n",
              "  'и',\n",
              "  'прочей',\n",
              "  'ерунде'],\n",
              " ['мистер',\n",
              "  'дурсль',\n",
              "  'возглавлял',\n",
              "  'фирму',\n",
              "  'под',\n",
              "  'названием',\n",
              "  'граннингс',\n",
              "  'которая',\n",
              "  'специализировалась',\n",
              "  'на',\n",
              "  'производстве',\n",
              "  'дрелей'],\n",
              " ['это',\n",
              "  'был',\n",
              "  'полный',\n",
              "  'мужчина',\n",
              "  'с',\n",
              "  'очень',\n",
              "  'пышными',\n",
              "  'усами',\n",
              "  'и',\n",
              "  'очень',\n",
              "  'короткой',\n",
              "  'шеей'],\n",
              " ['что',\n",
              "  'же',\n",
              "  'касается',\n",
              "  'миссис',\n",
              "  'дурсль',\n",
              "  'она',\n",
              "  'была',\n",
              "  'тощей',\n",
              "  'блондинкой',\n",
              "  'с',\n",
              "  'шеей',\n",
              "  'почти',\n",
              "  'вдвое',\n",
              "  'длиннее',\n",
              "  'чем',\n",
              "  'положено',\n",
              "  'при',\n",
              "  'ее',\n",
              "  'росте'],\n",
              " ['однако',\n",
              "  'этот',\n",
              "  'недостаток',\n",
              "  'пришелся',\n",
              "  'ей',\n",
              "  'весьма',\n",
              "  'кстати',\n",
              "  'поскольку',\n",
              "  'большую',\n",
              "  'часть',\n",
              "  'времени',\n",
              "  'миссис',\n",
              "  'дурсль',\n",
              "  'следила',\n",
              "  'за',\n",
              "  'соседями',\n",
              "  'и',\n",
              "  'подслушивала',\n",
              "  'их',\n",
              "  'разговоры'],\n",
              " ['а',\n",
              "  'с',\n",
              "  'такой',\n",
              "  'шеей',\n",
              "  'как',\n",
              "  'у',\n",
              "  'нее',\n",
              "  'было',\n",
              "  'очень',\n",
              "  'удобно',\n",
              "  'заглядывать',\n",
              "  'за',\n",
              "  'чужие',\n",
              "  'заборы'],\n",
              " ['у',\n",
              "  'мистера',\n",
              "  'и',\n",
              "  'миссис',\n",
              "  'дурсль',\n",
              "  'был',\n",
              "  'маленький',\n",
              "  'сын',\n",
              "  'по',\n",
              "  'имени',\n",
              "  'дадли',\n",
              "  'и',\n",
              "  'по',\n",
              "  'их',\n",
              "  'мнению',\n",
              "  'он',\n",
              "  'был',\n",
              "  'самым',\n",
              "  'чудесным',\n",
              "  'ребенком',\n",
              "  'на',\n",
              "  'свете'],\n",
              " ['семья', 'дурслей', 'имела', 'все', 'чего', 'только', 'можно', 'пожелать']]"
            ]
          },
          "metadata": {},
          "execution_count": 130
        }
      ]
    },
    {
      "cell_type": "markdown",
      "source": [
        "#### Обучение модели и примеры применения"
      ],
      "metadata": {
        "id": "Mw2we_9tc8cA"
      }
    },
    {
      "cell_type": "code",
      "source": [
        "from gensim.models.fasttext import FastText\n",
        "\n",
        "# зададим размерность векторов = 300 (хорошее стандартное значение, судя по статьям)\n",
        "model = FastText(vector_size=300)\n",
        "\n",
        "# создаем список слов\n",
        "model.build_vocab(sents)\n",
        "\n",
        "# обучаем модель со значениями параметров по умолчанию\n",
        "model.train(\n",
        "    sents, epochs=model.epochs,\n",
        "    total_examples=model.corpus_count, total_words=model.corpus_total_words,\n",
        ")"
      ],
      "metadata": {
        "id": "t3LUfoao4Hkg",
        "colab": {
          "base_uri": "https://localhost:8080/"
        },
        "outputId": "2fd38b9c-27d4-4c0b-9720-962809367745"
      },
      "execution_count": 131,
      "outputs": [
        {
          "output_type": "execute_result",
          "data": {
            "text/plain": [
              "(3373233, 4580325)"
            ]
          },
          "metadata": {},
          "execution_count": 131
        }
      ]
    },
    {
      "cell_type": "code",
      "source": [
        "# проверим работу модели\n",
        "wv = model.wv\n",
        "wv['волшебник']"
      ],
      "metadata": {
        "id": "jv8LxMoO4HZx",
        "colab": {
          "base_uri": "https://localhost:8080/"
        },
        "outputId": "aab262f9-863c-4023-830b-9dc4ef8e6815"
      },
      "execution_count": 132,
      "outputs": [
        {
          "output_type": "execute_result",
          "data": {
            "text/plain": [
              "array([-0.45324817, -0.15637654,  0.19070452, -0.38347358,  0.54574066,\n",
              "       -0.06351783, -0.09221989,  0.36370963,  0.1795068 ,  0.24916293,\n",
              "       -0.0757425 ,  0.16496499, -0.42934993,  0.44003305,  0.22839555,\n",
              "       -0.34938696,  0.02787391,  0.41767353,  0.36836147, -0.02740067,\n",
              "        0.07616279, -0.14888805, -0.15001176,  0.3126446 ,  0.25226578,\n",
              "        0.52426386,  0.52896523, -0.00261667, -0.44915128, -0.09404477,\n",
              "       -0.08636907,  0.19791985, -0.08073058,  0.5222441 ,  0.275779  ,\n",
              "       -0.17452659, -0.08404554, -0.2715032 ,  0.7526668 , -0.2829033 ,\n",
              "        0.39951956, -1.1771216 , -0.40714028, -0.03198459,  0.12288605,\n",
              "        0.83251154,  0.11766685, -0.43882388,  0.17377897,  0.19595727,\n",
              "       -0.31336462,  0.0964518 ,  0.11725083,  0.26978838,  0.05657682,\n",
              "       -0.7771023 , -0.24013707,  0.08042773,  0.23474933,  0.7814411 ,\n",
              "        0.06586244, -0.17392111, -0.56192   , -0.38165042, -0.24187726,\n",
              "        0.2385272 ,  0.53478104, -0.3146719 , -0.08417353,  0.19147763,\n",
              "        0.12702532, -0.70246387,  0.36229646,  0.24365982, -0.24906345,\n",
              "        0.40046665,  0.08448903,  0.07584589, -0.00619476, -0.27767748,\n",
              "        0.3873833 , -0.54164386,  0.6835477 , -0.06472387,  0.34051955,\n",
              "        0.25886968, -0.35135692,  0.2508433 , -0.34808758, -0.24860424,\n",
              "       -0.40664685, -0.06163569, -0.16625148,  0.50468206, -0.07241967,\n",
              "       -0.72733605,  0.24858682,  0.15327819, -0.5498478 ,  0.21994509,\n",
              "        0.44944206,  0.3242885 , -0.06512234, -0.20628247,  0.1632716 ,\n",
              "        0.17625493,  0.6930993 ,  0.18729483, -0.2506547 ,  0.02381011,\n",
              "       -0.34719872, -0.07669672, -0.52122587,  0.28436586, -0.04918945,\n",
              "       -0.25437918,  0.14295913, -0.23216094, -0.06605064, -0.03274395,\n",
              "        0.27212945, -0.40923047, -0.05637831,  0.5829848 , -0.02345709,\n",
              "        0.67291915, -0.7383432 ,  0.38037783, -0.09206679,  0.09384143,\n",
              "       -0.21860279,  0.47194192,  0.39363852,  0.04436816, -0.01132104,\n",
              "       -0.11638037, -0.364555  ,  1.293092  , -0.1378769 , -0.18309818,\n",
              "       -0.01112273, -0.13556655,  0.27214757,  0.19553955,  0.41209036,\n",
              "        0.6718134 , -0.23383488, -0.3104404 , -0.24879716,  0.17847298,\n",
              "        0.09264084,  0.4614516 , -0.26959273,  0.49140438,  0.06304446,\n",
              "        0.38317332, -0.23660249, -0.25057337, -0.07301498, -0.1184991 ,\n",
              "       -0.6605087 , -0.4801878 , -0.39961377,  0.28831342,  0.05845922,\n",
              "        0.33137557, -0.04810663, -0.00465357,  0.28341034,  0.8103019 ,\n",
              "        0.4427636 ,  0.33107218,  0.30912125,  0.29027337, -0.1276299 ,\n",
              "       -0.12681267, -0.5595245 , -0.16719219,  0.83363366,  0.01222123,\n",
              "        0.7031102 , -0.7816224 , -0.2926158 , -0.66578186,  0.26690266,\n",
              "       -0.3085546 ,  0.08857997,  0.53519833,  0.75866026,  0.04056187,\n",
              "       -0.11268534, -0.5071349 ,  0.30522117, -0.3362046 , -0.44750115,\n",
              "        0.03294527, -0.18111229,  0.7206113 , -0.37036866, -0.48590693,\n",
              "       -0.1560883 , -0.9638555 ,  0.23622416, -0.44759673, -0.57835525,\n",
              "        0.35448074,  0.2242757 ,  0.1578262 , -0.42069042,  0.7569139 ,\n",
              "       -0.19148222,  0.6630582 , -0.27471069,  0.06545063, -0.70277417,\n",
              "        0.47172272, -0.00890551,  0.03051519, -0.544314  ,  0.29341093,\n",
              "       -0.54487664,  0.10551269, -0.1183296 ,  0.12545012, -0.18429132,\n",
              "       -0.3883459 ,  0.20071165, -0.12143445, -0.22447173, -0.2745773 ,\n",
              "       -0.43050602, -0.16961147,  0.36199018, -0.1830748 , -0.3464592 ,\n",
              "       -0.2770713 , -0.6860894 ,  0.2650457 , -0.3158223 ,  0.1914254 ,\n",
              "        0.10002439,  1.0947284 , -0.42175332,  0.8320973 ,  0.15679821,\n",
              "       -0.08588427, -0.38767472,  0.16322611, -0.14213236,  0.12741967,\n",
              "       -0.01194234,  0.41390333,  0.04432709, -0.7447712 ,  0.09356184,\n",
              "        0.3368925 ,  0.1965519 ,  0.1299674 ,  0.11459716, -0.91169286,\n",
              "       -0.02340584, -0.36665842,  0.45140427, -0.42400518, -0.74164826,\n",
              "        0.12233762,  0.10687767, -0.00209091,  0.55680823,  0.06761318,\n",
              "        0.5478601 , -0.7665948 ,  0.2671484 ,  0.69102085,  0.3504676 ,\n",
              "       -0.02770145, -0.5496504 ,  0.23792033, -0.05795572,  0.08303168,\n",
              "        0.24069865, -0.38153413, -0.03939719, -0.44972098,  0.02283452,\n",
              "        0.3966058 , -0.34648907,  0.3851898 ,  0.2504294 ,  0.72284275,\n",
              "       -0.82920337, -0.27509475,  0.23897928, -0.40883473,  0.05863712,\n",
              "       -0.26393756,  0.886631  ,  0.38665146,  0.25755474, -0.8620421 ],\n",
              "      dtype=float32)"
            ]
          },
          "metadata": {},
          "execution_count": 132
        }
      ]
    },
    {
      "cell_type": "code",
      "source": [
        "# вычислим сходства между разными словами\n",
        "wv.similarity(\"гермиона\", \"гарри\")"
      ],
      "metadata": {
        "colab": {
          "base_uri": "https://localhost:8080/"
        },
        "id": "q5BM93P_JG-_",
        "outputId": "b3ce1141-f290-475a-b2a3-5936ca16df9b"
      },
      "execution_count": 133,
      "outputs": [
        {
          "output_type": "execute_result",
          "data": {
            "text/plain": [
              "0.16885704"
            ]
          },
          "metadata": {},
          "execution_count": 133
        }
      ]
    },
    {
      "cell_type": "code",
      "source": [
        "wv.similarity(\"гарри\", \"рон\")"
      ],
      "metadata": {
        "colab": {
          "base_uri": "https://localhost:8080/"
        },
        "id": "wG9_GE21Tk6I",
        "outputId": "b4632ce2-1399-458f-bc90-d4c883b7cc1d"
      },
      "execution_count": 137,
      "outputs": [
        {
          "output_type": "execute_result",
          "data": {
            "text/plain": [
              "0.79637295"
            ]
          },
          "metadata": {},
          "execution_count": 137
        }
      ]
    },
    {
      "cell_type": "code",
      "source": [
        "wv.doesnt_match([\"гарри\", \"рон\", \"гермиона\"])"
      ],
      "metadata": {
        "colab": {
          "base_uri": "https://localhost:8080/",
          "height": 35
        },
        "id": "fQMLxx0eJcdN",
        "outputId": "1546de75-64db-4837-ebc5-977cedf964e3"
      },
      "execution_count": 135,
      "outputs": [
        {
          "output_type": "execute_result",
          "data": {
            "text/plain": [
              "'гермиона'"
            ],
            "application/vnd.google.colaboratory.intrinsic+json": {
              "type": "string"
            }
          },
          "metadata": {},
          "execution_count": 135
        }
      ]
    },
    {
      "cell_type": "code",
      "source": [
        "wv.doesnt_match([\"гарри\", \"рон\", \"драко\"])"
      ],
      "metadata": {
        "colab": {
          "base_uri": "https://localhost:8080/",
          "height": 35
        },
        "id": "TfdR2TbWfxRh",
        "outputId": "f82034be-ed3d-405c-b5bd-145f899f986b"
      },
      "execution_count": 136,
      "outputs": [
        {
          "output_type": "execute_result",
          "data": {
            "text/plain": [
              "'драко'"
            ],
            "application/vnd.google.colaboratory.intrinsic+json": {
              "type": "string"
            }
          },
          "metadata": {},
          "execution_count": 136
        }
      ]
    },
    {
      "cell_type": "markdown",
      "source": [
        "Похоже, fasttext и правда хорошо работает!"
      ],
      "metadata": {
        "id": "GjPTArnUgEcd"
      }
    },
    {
      "cell_type": "code",
      "source": [
        "wv.most_similar(\"хогвартс\", topn=20)"
      ],
      "metadata": {
        "colab": {
          "base_uri": "https://localhost:8080/"
        },
        "id": "Vhk_HDp1JPmx",
        "outputId": "65d25a9c-7b76-421d-ee53-eaccb642d760"
      },
      "execution_count": 147,
      "outputs": [
        {
          "output_type": "execute_result",
          "data": {
            "text/plain": [
              "[('хогвартсу', 0.9986773133277893),\n",
              " ('хогвартсе', 0.9945032000541687),\n",
              " ('хогвартса', 0.9857644438743591),\n",
              " ('хогвартсэкспрессе', 0.9649022221565247),\n",
              " ('хогвартсэкспресс', 0.9603250026702881),\n",
              " ('азкабане', 0.94978928565979),\n",
              " ('хогвартский', 0.9339631795883179),\n",
              " ('обществе', 0.9321210980415344),\n",
              " ('одиночестве', 0.928432047367096),\n",
              " ('детстве', 0.9276929497718811),\n",
              " ('ордене', 0.9225748181343079),\n",
              " ('общество', 0.9207679629325867),\n",
              " ('дежурстве', 0.919559895992279),\n",
              " ('хогвартсом', 0.9195497035980225),\n",
              " ('школу', 0.9195043444633484),\n",
              " ('комунибудь', 0.9173568487167358),\n",
              " ('впоследствии', 0.9162335395812988),\n",
              " ('школе', 0.9160194396972656),\n",
              " ('хогсмиде', 0.9150161147117615),\n",
              " ('хогсмида', 0.9136425852775574)]"
            ]
          },
          "metadata": {},
          "execution_count": 147
        }
      ]
    },
    {
      "cell_type": "markdown",
      "source": [
        "В наиболее похожих словах ожидаемо находим формы исходного слова и однокоренные (отражает принцип работы модели), но вместе с тем и более интерпретируемые схожести: Азкабан, общество, орден, школа, Хогсмид."
      ],
      "metadata": {
        "id": "zKtA46CFgT2e"
      }
    },
    {
      "cell_type": "code",
      "source": [
        "wv.n_similarity(['альбус', 'дамблдор'], ['северус', 'снегг'])"
      ],
      "metadata": {
        "colab": {
          "base_uri": "https://localhost:8080/"
        },
        "id": "h7HL3jyzJb1t",
        "outputId": "31afbee2-aaf8-4d12-95d0-f83cd0478975"
      },
      "execution_count": 152,
      "outputs": [
        {
          "output_type": "execute_result",
          "data": {
            "text/plain": [
              "0.94327205"
            ]
          },
          "metadata": {},
          "execution_count": 152
        }
      ]
    }
  ],
  "metadata": {
    "colab": {
      "collapsed_sections": [
        "nO3bXBygoQM5"
      ],
      "provenance": [],
      "include_colab_link": true
    },
    "kernelspec": {
      "display_name": "Python 3",
      "name": "python3"
    },
    "language_info": {
      "name": "python"
    }
  },
  "nbformat": 4,
  "nbformat_minor": 0
}